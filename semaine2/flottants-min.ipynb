{
 "metadata": {
  "name": "",
  "signature": "sha256:4bb04ac5da50eaaf75388e8609562a688fd74631ad399499242150acfeb3f71e"
 },
 "nbformat": 3,
 "nbformat_minor": 0,
 "worksheets": [
  {
   "cells": [
    {
     "cell_type": "heading",
     "level": 1,
     "metadata": {},
     "source": [
      "Exercice : estimer le plus petit flottant"
     ]
    },
    {
     "cell_type": "markdown",
     "metadata": {},
     "source": [
      "En corollaire de la discussion sur la pr\u00e9cision des flottants, il faut savoir que le syst\u00e8me de codage en m\u00e9moire impose aussi une limite. Les r\u00e9els tr\u00e8s petits, ou tr\u00e8s grands, ne peuvent plus \u00eatre repr\u00e9sent\u00e9s de cette mani\u00e8re.\n",
      "\n",
      "C'est notamment tr\u00e8s g\u00eanant si vous impl\u00e9mentez un logiciel probabiliste, comme des graphes de markov, o\u00f9 les probabilit\u00e9s d'occurrence de s\u00e9quences tr\u00e8s longues tendent tr\u00e8s rapidement vers des valeurs extr\u00eamement petites."
     ]
    },
    {
     "cell_type": "markdown",
     "metadata": {},
     "source": [
      "Pour vous aider, voici deux valeurs:"
     ]
    },
    {
     "cell_type": "code",
     "collapsed": false,
     "input": [
      "10 ** -320"
     ],
     "language": "python",
     "metadata": {},
     "outputs": [
      {
       "metadata": {},
       "output_type": "pyout",
       "prompt_number": 1,
       "text": [
        "1e-320"
       ]
      }
     ],
     "prompt_number": 1
    },
    {
     "cell_type": "code",
     "collapsed": false,
     "input": [
      "10 ** -330"
     ],
     "language": "python",
     "metadata": {},
     "outputs": [
      {
       "metadata": {},
       "output_type": "pyout",
       "prompt_number": 2,
       "text": [
        "0.0"
       ]
      }
     ],
     "prompt_number": 2
    },
    {
     "cell_type": "markdown",
     "metadata": {},
     "source": [
      "Comme on le voit, $10^{-320}$ est correctement imprim\u00e9, alors que $10^{-330}$ est de mani\u00e8re erron\u00e9e rapport\u00e9 comme \u00e9tant nul."
     ]
    },
    {
     "cell_type": "code",
     "collapsed": false,
     "input": [],
     "language": "python",
     "metadata": {},
     "outputs": []
    }
   ],
   "metadata": {}
  }
 ]
}